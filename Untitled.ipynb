{
 "cells": [
  {
   "attachments": {},
   "cell_type": "markdown",
   "id": "516cd45c",
   "metadata": {},
   "source": [
    "# РЕШЕНИЕ ТЕСТОВОГО ЗАДАНИЯ RED_ROBOTS\n",
    "\n",
    "Использовался python 3.11"
   ]
  },
  {
   "attachments": {},
   "cell_type": "markdown",
   "id": "00a9d78e",
   "metadata": {},
   "source": [
    "## 1. Набор данных \n",
    "Данные были взять из репозитория <https://github.com/MiXaiLL76/faster_coco_eval>. \n",
    "\n",
    "Набор данных состоит из : \n",
    "1. Images - тут хранятся все изображения \n",
    "2. Labels - тут хранится разметка класса для каждого изображения\n",
    "\n",
    "Скачиваем папки Labels Images, после чего разархивируйте их\n",
    "\n",
    "<https://drive.google.com/drive/folders/19uUR6EJPQzMeK0YpsxRm51wMZzDmcsv6>"
   ]
  },
  {
   "attachments": {},
   "cell_type": "markdown",
   "id": "3163ba0d",
   "metadata": {},
   "source": [
    "#### Скачиваем зависимости для данного этапа"
   ]
  },
  {
   "cell_type": "code",
   "execution_count": null,
   "id": "39435c8c",
   "metadata": {},
   "outputs": [],
   "source": [
    "pip install opencv-python gdown pandas numpy"
   ]
  },
  {
   "attachments": {},
   "cell_type": "markdown",
   "id": "a2f5bbaa",
   "metadata": {},
   "source": [
    "#### Визуализируем разметку на изображениях"
   ]
  },
  {
   "cell_type": "code",
   "execution_count": 3,
   "id": "fb9d2a6a",
   "metadata": {},
   "outputs": [],
   "source": [
    "import csv, os, cv2\n",
    "\n",
    "def writeRectangelsOnImages(filePath,readDir,saveDir):\n",
    "    with open(filePath, 'r') as f:\n",
    "        reader = csv.reader(f, delimiter='\\t')\n",
    "        for row in reader:\n",
    "        # извлекаем данные из строки\n",
    "            imageName = row[0]\n",
    "            coordinates = [list(map(int, x.split(','))) for x in row[1:]]\n",
    "\n",
    "        # открываем изображение\n",
    "            img = cv2.imread(os.path.join(readDir, imageName))\n",
    "            \n",
    "        # рисуем прямоугольники\n",
    "            for coord in coordinates:\n",
    "                x1, y1, x2, y2, cls = coord\n",
    "                if cls == 2:\n",
    "                    color = (0, 0, 255)\n",
    "                elif cls == 1:\n",
    "                    color = (0, 255, 0)\n",
    "                elif cls == 0:\n",
    "                    color = (255, 0, 0)\n",
    "            cv2.rectangle(img, (x1, y1), (x2, y2), color, 2)    \n",
    "        # сохраняем изображение с нарисованными прямоугольниками\n",
    "            \n",
    "            cv2.imwrite(os.path.join(saveDir, imageName), img)"
   ]
  },
  {
   "cell_type": "code",
   "execution_count": 4,
   "id": "ca883285",
   "metadata": {},
   "outputs": [
    {
     "ename": "ParserError",
     "evalue": "Error tokenizing data. C error: Expected 12 fields in line 4, saw 15\n",
     "output_type": "error",
     "traceback": [
      "\u001b[1;31m---------------------------------------------------------------------------\u001b[0m",
      "\u001b[1;31mParserError\u001b[0m                               Traceback (most recent call last)",
      "Cell \u001b[1;32mIn[4], line 9\u001b[0m\n\u001b[0;32m      7\u001b[0m \u001b[39m# os.mkdir(path2Save)\u001b[39;00m\n\u001b[0;32m      8\u001b[0m \u001b[39mfor\u001b[39;00m file \u001b[39min\u001b[39;00m prefixedFiles:\n\u001b[1;32m----> 9\u001b[0m     writeRectangelsOnImages(os\u001b[39m.\u001b[39;49mpath\u001b[39m.\u001b[39;49mjoin(pathLabels,file),pathImages,path2Save)\n",
      "Cell \u001b[1;32mIn[3], line 5\u001b[0m, in \u001b[0;36mwriteRectangelsOnImages\u001b[1;34m(filePath, readDir, saveDir)\u001b[0m\n\u001b[0;32m      3\u001b[0m \u001b[39mdef\u001b[39;00m \u001b[39mwriteRectangelsOnImages\u001b[39m(filePath,readDir,saveDir):\n\u001b[0;32m      4\u001b[0m     \u001b[39mwith\u001b[39;00m \u001b[39mopen\u001b[39m(filePath, \u001b[39m'\u001b[39m\u001b[39mr\u001b[39m\u001b[39m'\u001b[39m) \u001b[39mas\u001b[39;00m f:\n\u001b[1;32m----> 5\u001b[0m         data \u001b[39m=\u001b[39m pd\u001b[39m.\u001b[39;49mread_csv(filePath, delimiter\u001b[39m=\u001b[39;49m\u001b[39m'\u001b[39;49m\u001b[39m\\t\u001b[39;49;00m\u001b[39m'\u001b[39;49m, header\u001b[39m=\u001b[39;49m\u001b[39mNone\u001b[39;49;00m)\n\u001b[0;32m      6\u001b[0m         \u001b[39mfor\u001b[39;00m index, row \u001b[39min\u001b[39;00m data\u001b[39m.\u001b[39miterrows():\n\u001b[0;32m      7\u001b[0m         \u001b[39m# извлекаем данные из строки\u001b[39;00m\n\u001b[0;32m      8\u001b[0m             imageName \u001b[39m=\u001b[39m row\u001b[39m.\u001b[39miloc[\u001b[39m0\u001b[39m]\n",
      "File \u001b[1;32md:\\red_robots\\venv\\Lib\\site-packages\\pandas\\util\\_decorators.py:211\u001b[0m, in \u001b[0;36mdeprecate_kwarg.<locals>._deprecate_kwarg.<locals>.wrapper\u001b[1;34m(*args, **kwargs)\u001b[0m\n\u001b[0;32m    209\u001b[0m     \u001b[39melse\u001b[39;00m:\n\u001b[0;32m    210\u001b[0m         kwargs[new_arg_name] \u001b[39m=\u001b[39m new_arg_value\n\u001b[1;32m--> 211\u001b[0m \u001b[39mreturn\u001b[39;00m func(\u001b[39m*\u001b[39;49margs, \u001b[39m*\u001b[39;49m\u001b[39m*\u001b[39;49mkwargs)\n",
      "File \u001b[1;32md:\\red_robots\\venv\\Lib\\site-packages\\pandas\\util\\_decorators.py:331\u001b[0m, in \u001b[0;36mdeprecate_nonkeyword_arguments.<locals>.decorate.<locals>.wrapper\u001b[1;34m(*args, **kwargs)\u001b[0m\n\u001b[0;32m    325\u001b[0m \u001b[39mif\u001b[39;00m \u001b[39mlen\u001b[39m(args) \u001b[39m>\u001b[39m num_allow_args:\n\u001b[0;32m    326\u001b[0m     warnings\u001b[39m.\u001b[39mwarn(\n\u001b[0;32m    327\u001b[0m         msg\u001b[39m.\u001b[39mformat(arguments\u001b[39m=\u001b[39m_format_argument_list(allow_args)),\n\u001b[0;32m    328\u001b[0m         \u001b[39mFutureWarning\u001b[39;00m,\n\u001b[0;32m    329\u001b[0m         stacklevel\u001b[39m=\u001b[39mfind_stack_level(),\n\u001b[0;32m    330\u001b[0m     )\n\u001b[1;32m--> 331\u001b[0m \u001b[39mreturn\u001b[39;00m func(\u001b[39m*\u001b[39;49margs, \u001b[39m*\u001b[39;49m\u001b[39m*\u001b[39;49mkwargs)\n",
      "File \u001b[1;32md:\\red_robots\\venv\\Lib\\site-packages\\pandas\\io\\parsers\\readers.py:950\u001b[0m, in \u001b[0;36mread_csv\u001b[1;34m(filepath_or_buffer, sep, delimiter, header, names, index_col, usecols, squeeze, prefix, mangle_dupe_cols, dtype, engine, converters, true_values, false_values, skipinitialspace, skiprows, skipfooter, nrows, na_values, keep_default_na, na_filter, verbose, skip_blank_lines, parse_dates, infer_datetime_format, keep_date_col, date_parser, dayfirst, cache_dates, iterator, chunksize, compression, thousands, decimal, lineterminator, quotechar, quoting, doublequote, escapechar, comment, encoding, encoding_errors, dialect, error_bad_lines, warn_bad_lines, on_bad_lines, delim_whitespace, low_memory, memory_map, float_precision, storage_options)\u001b[0m\n\u001b[0;32m    935\u001b[0m kwds_defaults \u001b[39m=\u001b[39m _refine_defaults_read(\n\u001b[0;32m    936\u001b[0m     dialect,\n\u001b[0;32m    937\u001b[0m     delimiter,\n\u001b[1;32m   (...)\u001b[0m\n\u001b[0;32m    946\u001b[0m     defaults\u001b[39m=\u001b[39m{\u001b[39m\"\u001b[39m\u001b[39mdelimiter\u001b[39m\u001b[39m\"\u001b[39m: \u001b[39m\"\u001b[39m\u001b[39m,\u001b[39m\u001b[39m\"\u001b[39m},\n\u001b[0;32m    947\u001b[0m )\n\u001b[0;32m    948\u001b[0m kwds\u001b[39m.\u001b[39mupdate(kwds_defaults)\n\u001b[1;32m--> 950\u001b[0m \u001b[39mreturn\u001b[39;00m _read(filepath_or_buffer, kwds)\n",
      "File \u001b[1;32md:\\red_robots\\venv\\Lib\\site-packages\\pandas\\io\\parsers\\readers.py:611\u001b[0m, in \u001b[0;36m_read\u001b[1;34m(filepath_or_buffer, kwds)\u001b[0m\n\u001b[0;32m    608\u001b[0m     \u001b[39mreturn\u001b[39;00m parser\n\u001b[0;32m    610\u001b[0m \u001b[39mwith\u001b[39;00m parser:\n\u001b[1;32m--> 611\u001b[0m     \u001b[39mreturn\u001b[39;00m parser\u001b[39m.\u001b[39;49mread(nrows)\n",
      "File \u001b[1;32md:\\red_robots\\venv\\Lib\\site-packages\\pandas\\io\\parsers\\readers.py:1778\u001b[0m, in \u001b[0;36mTextFileReader.read\u001b[1;34m(self, nrows)\u001b[0m\n\u001b[0;32m   1771\u001b[0m nrows \u001b[39m=\u001b[39m validate_integer(\u001b[39m\"\u001b[39m\u001b[39mnrows\u001b[39m\u001b[39m\"\u001b[39m, nrows)\n\u001b[0;32m   1772\u001b[0m \u001b[39mtry\u001b[39;00m:\n\u001b[0;32m   1773\u001b[0m     \u001b[39m# error: \"ParserBase\" has no attribute \"read\"\u001b[39;00m\n\u001b[0;32m   1774\u001b[0m     (\n\u001b[0;32m   1775\u001b[0m         index,\n\u001b[0;32m   1776\u001b[0m         columns,\n\u001b[0;32m   1777\u001b[0m         col_dict,\n\u001b[1;32m-> 1778\u001b[0m     ) \u001b[39m=\u001b[39m \u001b[39mself\u001b[39;49m\u001b[39m.\u001b[39;49m_engine\u001b[39m.\u001b[39;49mread(  \u001b[39m# type: ignore[attr-defined]\u001b[39;49;00m\n\u001b[0;32m   1779\u001b[0m         nrows\n\u001b[0;32m   1780\u001b[0m     )\n\u001b[0;32m   1781\u001b[0m \u001b[39mexcept\u001b[39;00m \u001b[39mException\u001b[39;00m:\n\u001b[0;32m   1782\u001b[0m     \u001b[39mself\u001b[39m\u001b[39m.\u001b[39mclose()\n",
      "File \u001b[1;32md:\\red_robots\\venv\\Lib\\site-packages\\pandas\\io\\parsers\\c_parser_wrapper.py:230\u001b[0m, in \u001b[0;36mCParserWrapper.read\u001b[1;34m(self, nrows)\u001b[0m\n\u001b[0;32m    228\u001b[0m \u001b[39mtry\u001b[39;00m:\n\u001b[0;32m    229\u001b[0m     \u001b[39mif\u001b[39;00m \u001b[39mself\u001b[39m\u001b[39m.\u001b[39mlow_memory:\n\u001b[1;32m--> 230\u001b[0m         chunks \u001b[39m=\u001b[39m \u001b[39mself\u001b[39;49m\u001b[39m.\u001b[39;49m_reader\u001b[39m.\u001b[39;49mread_low_memory(nrows)\n\u001b[0;32m    231\u001b[0m         \u001b[39m# destructive to chunks\u001b[39;00m\n\u001b[0;32m    232\u001b[0m         data \u001b[39m=\u001b[39m _concatenate_chunks(chunks)\n",
      "File \u001b[1;32md:\\red_robots\\venv\\Lib\\site-packages\\pandas\\_libs\\parsers.pyx:808\u001b[0m, in \u001b[0;36mpandas._libs.parsers.TextReader.read_low_memory\u001b[1;34m()\u001b[0m\n",
      "File \u001b[1;32md:\\red_robots\\venv\\Lib\\site-packages\\pandas\\_libs\\parsers.pyx:866\u001b[0m, in \u001b[0;36mpandas._libs.parsers.TextReader._read_rows\u001b[1;34m()\u001b[0m\n",
      "File \u001b[1;32md:\\red_robots\\venv\\Lib\\site-packages\\pandas\\_libs\\parsers.pyx:852\u001b[0m, in \u001b[0;36mpandas._libs.parsers.TextReader._tokenize_rows\u001b[1;34m()\u001b[0m\n",
      "File \u001b[1;32md:\\red_robots\\venv\\Lib\\site-packages\\pandas\\_libs\\parsers.pyx:1973\u001b[0m, in \u001b[0;36mpandas._libs.parsers.raise_parser_error\u001b[1;34m()\u001b[0m\n",
      "\u001b[1;31mParserError\u001b[0m: Error tokenizing data. C error: Expected 12 fields in line 4, saw 15\n"
     ]
    }
   ],
   "source": [
    "pathLabels = \"Labels\"\n",
    "pathImages = \"Images\"\n",
    "path2Save = \"ImagesDrawing\"\n",
    "prefixLabels = \"pictor_ppe_crowdsourced_approach-01\"\n",
    "listTXTLabels = os.listdir(pathLabels)\n",
    "prefixedFiles = [f for f in listTXTLabels if f.startswith(prefixLabels)]\n",
    "# os.mkdir(path2Save)\n",
    "for file in prefixedFiles:\n",
    "    writeRectangelsOnImages(os.path.join(pathLabels,file),pathImages,path2Save)"
   ]
  },
  {
   "attachments": {},
   "cell_type": "markdown",
   "id": "979f3647",
   "metadata": {},
   "source": [
    "### САМОСТОЯТЕЛЬНАЯ РАЗМЕТКА\n",
    "\n",
    "В данном случае нужно преобразовать этот датасет в coco датасет со всей нужной мето-информацией."
   ]
  },
  {
   "cell_type": "code",
   "execution_count": null,
   "id": "7a23562b",
   "metadata": {},
   "outputs": [],
   "source": [
    "path2Coco = \"cocoLabels\"\n",
    "def convert2Coco():"
   ]
  }
 ],
 "metadata": {
  "kernelspec": {
   "display_name": "venv",
   "language": "python",
   "name": "python3"
  },
  "language_info": {
   "codemirror_mode": {
    "name": "ipython",
    "version": 3
   },
   "file_extension": ".py",
   "mimetype": "text/x-python",
   "name": "python",
   "nbconvert_exporter": "python",
   "pygments_lexer": "ipython3",
   "version": "3.11.1"
  }
 },
 "nbformat": 4,
 "nbformat_minor": 5
}
